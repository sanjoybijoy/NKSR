{
 "cells": [
  {
   "cell_type": "markdown",
   "id": "0d345280",
   "metadata": {},
   "source": [
  
    "# File-level dependency table\n",
    "\n",
    "| Module / file     | Depends on (internal)                                                      | Depends on (external)                            | Exports / main classes & functions (most relevant)                                                                    | Purpose / notes                                                                                                                                              |\n",
    "| ----------------- | -------------------------------------------------------------------------- | ------------------------------------------------ | --------------------------------------------------------------------------------------------------------------------- | ------------------------------------------------------------------------------------------------------------------------------------------------------------ |\n",
    "| `__init__.py`     | `nn`, `fields`, `solver`, `interpolator`, `meshing`, `svh`, `utils`, `ext` | `torch`, `numpy` (typical)                       | **`Reconstructor`** (high-level class), convenience factory functions; re-exports core types like `Field`             | The main user entry point (e.g., `reconstructor = nksr.Reconstructor(device)`). Orchestrates network inference → field build → meshing. ([GitHub][1])        |\n",
    "| `nn/` (the “net”) | `utils`                                                                    | `torch`, `torch.nn`, `torch.nn.functional`       | Encoders / UNet-like backbones; voxel feature & normal heads                                                          | Defines the neural nets that predict sparse voxel features & normals used by kernels.                                                                        |\n",
    "| `fields/`         | `interpolator`, `svh`, `utils`, possibly `ext`                             | `torch`, `numpy`                                 | **`Field`** (implicit surface representation), `Field.evaluate`, **`Field.extract_dual_mesh`** (delegates to meshing) | Wraps learned kernel field; provides evaluation and mesh extraction hooks. The export name `extract_dual_mesh` is shown in the README example. ([GitHub][1]) |\n",
    "| `svh.py`          | `utils`, `ext`, maybe `interpolator`                                       | —                                                | `SparseVoxelHierarchy` (SVH), builders/helpers                                                                        | Sparse Voxel Hierarchy structure for features, indices, neighborhood queries. Backed by C/C++ ops via `_C.so`.                                               |\n",
    "| `interpolator.py` | `utils`                                                                    | `torch`                                          | `Interpolator` / `TrilinearInterpolator` helpers                                                                      | Interpolates features/normals on the sparse voxel grid.                                                                                                      |\n",
    "| `solver.py`       | `utils`, `fields`, possibly `ext`                                          | `torch`, `scipy.sparse` (typical), or custom ops | Linear-system routines (e.g., conjugate gradient); kernel Gram matrix assembly                                        | Solves for per-voxel coefficients α in the NKSR kernel system.                                                                                               |\n",
    "| `meshing.py`      | `fields`, `utils`, `ext`                                                   | `torch` / `numpy`                                | `extract_dual_mesh`, marching-cubes/dual-contouring driver                                                            | Extracts meshes from field values on voxel corners (dual marching cubes flow). The README calls `field.extract_dual_mesh(...)`. ([GitHub][1])                |\n",
    "| `ext.py`          | `_C.so`                                                                    | —                                                | Python bindings / thin wrappers                                                                                       | Loads the compiled extension and exposes fast kernels (SVH ops, neighborhood, marching cubes acceleration).                                                  |\n",
    "| `_C.so` (binary)  | —                                                                          | —                                                | Native ops used by `ext.py`                                                                                           | Compiled CUDA/C++ extension with performance-critical pieces.                                                                                                |\n",
    "| `configs.py`      | —                                                                          | `yaml` / stdlib                                  | Config dataclasses/utilities                                                                                          | Small configuration helpers for default params and toggles.                                                                                                  |\n",
    "| `utils.py`        | —                                                                          | `numpy`, `torch`, stdlib                         | IO helpers, point-cloud utils, timing/logging                                                                         | Glue utilities used across modules.                                                                                                                          |\n",
    "\n",
    "[1]: https://github.com/nv-tlabs/NKSR \"GitHub - nv-tlabs/NKSR: [CVPR 2023 Highlight] Neural Kernel Surface Reconstruction\"\n"
   ]
  },
  {
   "cell_type": "markdown",
   "id": "21a5f176",
   "metadata": {},
   "source": []
  }
 ],
 "metadata": {
  "language_info": {
   "name": "python"
  }
 },
 "nbformat": 4,
 "nbformat_minor": 5
}
